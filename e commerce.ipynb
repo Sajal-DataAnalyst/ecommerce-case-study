{
 "cells": [
  {
   "cell_type": "markdown",
   "id": "c616c783",
   "metadata": {},
   "source": [
    "# E-commerce Case Study: Weekend Discounts\n"
   ]
  },
  {
   "cell_type": "code",
   "execution_count": 1,
   "id": "ff9f1a0b",
   "metadata": {},
   "outputs": [
    {
     "data": {
      "text/html": [
       "<div>\n",
       "<style scoped>\n",
       "    .dataframe tbody tr th:only-of-type {\n",
       "        vertical-align: middle;\n",
       "    }\n",
       "\n",
       "    .dataframe tbody tr th {\n",
       "        vertical-align: top;\n",
       "    }\n",
       "\n",
       "    .dataframe thead th {\n",
       "        text-align: right;\n",
       "    }\n",
       "</style>\n",
       "<table border=\"1\" class=\"dataframe\">\n",
       "  <thead>\n",
       "    <tr style=\"text-align: right;\">\n",
       "      <th></th>\n",
       "      <th>InvoiceNo</th>\n",
       "      <th>StockCode</th>\n",
       "      <th>Description</th>\n",
       "      <th>Quantity</th>\n",
       "      <th>InvoiceDate</th>\n",
       "      <th>UnitPrice</th>\n",
       "      <th>CustomerID</th>\n",
       "      <th>Country</th>\n",
       "    </tr>\n",
       "  </thead>\n",
       "  <tbody>\n",
       "    <tr>\n",
       "      <th>0</th>\n",
       "      <td>536365</td>\n",
       "      <td>85123A</td>\n",
       "      <td>WHITE HANGING HEART T-LIGHT HOLDER</td>\n",
       "      <td>6</td>\n",
       "      <td>12/1/2010 8:26</td>\n",
       "      <td>2.55</td>\n",
       "      <td>17850.0</td>\n",
       "      <td>United Kingdom</td>\n",
       "    </tr>\n",
       "    <tr>\n",
       "      <th>1</th>\n",
       "      <td>536365</td>\n",
       "      <td>71053</td>\n",
       "      <td>WHITE METAL LANTERN</td>\n",
       "      <td>6</td>\n",
       "      <td>12/1/2010 8:26</td>\n",
       "      <td>3.39</td>\n",
       "      <td>17850.0</td>\n",
       "      <td>United Kingdom</td>\n",
       "    </tr>\n",
       "    <tr>\n",
       "      <th>2</th>\n",
       "      <td>536365</td>\n",
       "      <td>84406B</td>\n",
       "      <td>CREAM CUPID HEARTS COAT HANGER</td>\n",
       "      <td>8</td>\n",
       "      <td>12/1/2010 8:26</td>\n",
       "      <td>2.75</td>\n",
       "      <td>17850.0</td>\n",
       "      <td>United Kingdom</td>\n",
       "    </tr>\n",
       "    <tr>\n",
       "      <th>3</th>\n",
       "      <td>536365</td>\n",
       "      <td>84029G</td>\n",
       "      <td>KNITTED UNION FLAG HOT WATER BOTTLE</td>\n",
       "      <td>6</td>\n",
       "      <td>12/1/2010 8:26</td>\n",
       "      <td>3.39</td>\n",
       "      <td>17850.0</td>\n",
       "      <td>United Kingdom</td>\n",
       "    </tr>\n",
       "    <tr>\n",
       "      <th>4</th>\n",
       "      <td>536365</td>\n",
       "      <td>84029E</td>\n",
       "      <td>RED WOOLLY HOTTIE WHITE HEART.</td>\n",
       "      <td>6</td>\n",
       "      <td>12/1/2010 8:26</td>\n",
       "      <td>3.39</td>\n",
       "      <td>17850.0</td>\n",
       "      <td>United Kingdom</td>\n",
       "    </tr>\n",
       "  </tbody>\n",
       "</table>\n",
       "</div>"
      ],
      "text/plain": [
       "  InvoiceNo StockCode                          Description  Quantity  \\\n",
       "0    536365    85123A   WHITE HANGING HEART T-LIGHT HOLDER         6   \n",
       "1    536365     71053                  WHITE METAL LANTERN         6   \n",
       "2    536365    84406B       CREAM CUPID HEARTS COAT HANGER         8   \n",
       "3    536365    84029G  KNITTED UNION FLAG HOT WATER BOTTLE         6   \n",
       "4    536365    84029E       RED WOOLLY HOTTIE WHITE HEART.         6   \n",
       "\n",
       "      InvoiceDate  UnitPrice  CustomerID         Country  \n",
       "0  12/1/2010 8:26       2.55     17850.0  United Kingdom  \n",
       "1  12/1/2010 8:26       3.39     17850.0  United Kingdom  \n",
       "2  12/1/2010 8:26       2.75     17850.0  United Kingdom  \n",
       "3  12/1/2010 8:26       3.39     17850.0  United Kingdom  \n",
       "4  12/1/2010 8:26       3.39     17850.0  United Kingdom  "
      ]
     },
     "execution_count": 1,
     "metadata": {},
     "output_type": "execute_result"
    }
   ],
   "source": [
    "import pandas as pd\n",
    "\n",
    "df = pd.read_csv(\"C:\\\\Users\\\\Sajal Jaiswal\\\\Downloads\\\\resources\\\\e commerce 2\\\\data.csv\", encoding='ISO-8859-1') \n",
    "df.head()\n"
   ]
  },
  {
   "cell_type": "code",
   "execution_count": 2,
   "id": "18442e0e",
   "metadata": {},
   "outputs": [],
   "source": [
    "# Drop rows with missing values\n",
    "df.dropna(inplace=True)\n",
    "\n",
    "# Convert 'InvoiceDate' to datetime\n",
    "df['InvoiceDate'] = pd.to_datetime(df['InvoiceDate'])\n",
    "\n",
    "# Remove cancelled orders (invoices starting with 'C')\n",
    "df = df[~df['InvoiceNo'].astype(str).str.startswith('C')]\n"
   ]
  },
  {
   "cell_type": "code",
   "execution_count": 3,
   "id": "2926fa53",
   "metadata": {},
   "outputs": [],
   "source": [
    "# Add total order value per row\n",
    "df['TotalPrice'] = df['Quantity'] * df['UnitPrice']\n",
    "\n",
    "# Add day of week\n",
    "df['DayOfWeek'] = df['InvoiceDate'].dt.day_name()\n",
    "\n",
    "# Add weekend flag\n",
    "df['is_weekend'] = df['DayOfWeek'].isin(['Saturday', 'Sunday'])\n",
    "\n",
    "# Add date only (ignore time)\n",
    "df['InvoiceDay'] = df['InvoiceDate'].dt.date\n"
   ]
  },
  {
   "cell_type": "code",
   "execution_count": 4,
   "id": "2ba717db",
   "metadata": {},
   "outputs": [
    {
     "name": "stdout",
     "output_type": "stream",
     "text": [
      "Avg Order Value - Weekend: 12.624678948626048\n",
      "Avg Order Value - Weekday: 24.224728950407133\n"
     ]
    }
   ],
   "source": [
    "weekend_avg = df[df['is_weekend']]['TotalPrice'].mean()\n",
    "weekday_avg = df[~df['is_weekend']]['TotalPrice'].mean()\n",
    "\n",
    "print(\"Avg Order Value - Weekend:\", weekend_avg)\n",
    "print(\"Avg Order Value - Weekday:\", weekday_avg)\n"
   ]
  },
  {
   "cell_type": "code",
   "execution_count": 5,
   "id": "7d9e9230",
   "metadata": {},
   "outputs": [
    {
     "name": "stdout",
     "output_type": "stream",
     "text": [
      "Customers - Weekend: 1225\n",
      "Customers - Weekday: 4081\n"
     ]
    }
   ],
   "source": [
    "weekend_customers = df[df['is_weekend']]['CustomerID'].nunique()\n",
    "weekday_customers = df[~df['is_weekend']]['CustomerID'].nunique()\n",
    "\n",
    "print(\"Customers - Weekend:\", weekend_customers)\n",
    "print(\"Customers - Weekday:\", weekday_customers)\n"
   ]
  },
  {
   "cell_type": "code",
   "execution_count": 6,
   "id": "0a4ba068",
   "metadata": {},
   "outputs": [
    {
     "name": "stdout",
     "output_type": "stream",
     "text": [
      "P-value: 2.784415252556265e-85\n"
     ]
    }
   ],
   "source": [
    "#Hypotheses Testing\n",
    "\n",
    "from scipy.stats import ttest_ind\n",
    "\n",
    "weekend_sales = df[df['is_weekend']]['TotalPrice']\n",
    "weekday_sales = df[~df['is_weekend']]['TotalPrice']\n",
    "\n",
    "t_stat, p_value = ttest_ind(weekend_sales, weekday_sales, equal_var=False)\n",
    "print(\"P-value:\", p_value)\n"
   ]
  },
  {
   "cell_type": "code",
   "execution_count": 7,
   "id": "bde8c685",
   "metadata": {},
   "outputs": [
    {
     "name": "stdout",
     "output_type": "stream",
     "text": [
      "Slope: 1.1419383024100107\n",
      "Intercept: 18.836269508402278\n",
      "R² Score: 0.006666077793363923\n"
     ]
    }
   ],
   "source": [
    "#Linear Regression Testing\n",
    "from sklearn.linear_model import LinearRegression\n",
    "\n",
    "model = LinearRegression()\n",
    "\n",
    "X = df[['UnitPrice']]  # Discount-like signal\n",
    "y = df['TotalPrice']\n",
    "\n",
    "model.fit(X, y)\n",
    "\n",
    "print(\"Slope:\", model.coef_[0])\n",
    "print(\"Intercept:\", model.intercept_)\n",
    "print(\"R² Score:\", model.score(X, y))  # Closer to 1 = better prediction\n"
   ]
  },
  {
   "cell_type": "code",
   "execution_count": 8,
   "id": "f49b56d9",
   "metadata": {},
   "outputs": [
    {
     "data": {
      "image/png": "[encoded data removed]",
      "text/plain": [
       "<Figure size 640x480 with 1 Axes>"
      ]
     },
     "metadata": {},
     "output_type": "display_data"
    },
    {
     "data": {
      "image/png": "[encoded data removed]",
      "text/plain": [
       "<Figure size 640x480 with 1 Axes>"
      ]
     },
     "metadata": {},
     "output_type": "display_data"
    }
   ],
   "source": [
    "#Visual Insight \n",
    "\n",
    "import seaborn as sns\n",
    "import matplotlib.pyplot as plt\n",
    "\n",
    "# Order Value vs UnitPrice\n",
    "sns.scatterplot(x='UnitPrice', y='TotalPrice', data=df)\n",
    "plt.title(\"Total Order Value vs Unit Price (Discount Indicator)\")\n",
    "plt.show()\n",
    "\n",
    "# Weekend vs Weekday Total Sales\n",
    "sns.boxplot(x='is_weekend', y='TotalPrice', data=df)\n",
    "plt.title(\"Weekend vs Weekday Sales\")\n",
    "plt.show()\n"
   ]
  }
 ],
 "metadata": {
  "kernelspec": {
   "display_name": "Python 3",
   "language": "python",
   "name": "python3"
  },
  "language_info": {
   "codemirror_mode": {
    "name": "ipython",
    "version": 3
   },
   "file_extension": ".py",
   "mimetype": "text/x-python",
   "name": "python",
   "nbconvert_exporter": "python",
   "pygments_lexer": "ipython3",
   "version": "3.13.3"
  }
 },
 "nbformat": 4,
 "nbformat_minor": 5
}
